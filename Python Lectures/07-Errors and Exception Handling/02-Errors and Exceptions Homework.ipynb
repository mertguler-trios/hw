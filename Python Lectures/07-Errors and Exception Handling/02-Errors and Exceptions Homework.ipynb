{
 "cells": [
  {
   "cell_type": "markdown",
   "source": [
    "___\n",
    "\n",
    "<a href='https://www.udemy.com/user/joseportilla/'><img src='../Pierian_Data_Logo.png'/></a>\n",
    "___\n",
    "<center><em>Content Copyright by Pierian Data</em></center>"
   ],
   "metadata": {}
  },
  {
   "cell_type": "markdown",
   "source": [
    "# Errors and Exceptions Homework"
   ],
   "metadata": {}
  },
  {
   "cell_type": "markdown",
   "source": [
    "### Problem 1\n",
    "Handle the exception thrown by the code below by using <code>try</code> and <code>except</code> blocks."
   ],
   "metadata": {}
  },
  {
   "cell_type": "code",
   "execution_count": 2,
   "source": [
    "try:\r\n",
    "\r\n",
    "    for i in ['a','b','c']:\r\n",
    "        print(i**2)\r\n",
    "\r\n",
    "except TypeError:\r\n",
    "    print(\"A TypeError has occurred!\")"
   ],
   "outputs": [
    {
     "output_type": "stream",
     "name": "stdout",
     "text": [
      "A TypeError has occurred!\n"
     ]
    }
   ],
   "metadata": {}
  },
  {
   "cell_type": "markdown",
   "source": [
    "### Problem 2\n",
    "Handle the exception thrown by the code below by using <code>try</code> and <code>except</code> blocks. Then use a <code>finally</code> block to print 'All Done.'"
   ],
   "metadata": {}
  },
  {
   "cell_type": "code",
   "execution_count": 3,
   "source": [
    "x = 5\r\n",
    "y = 0\r\n",
    "\r\n",
    "try:\r\n",
    "    z = x/y\r\n",
    "except ZeroDivisionError:\r\n",
    "    print(\"A number cannot be divided by zero.\")\r\n",
    "finally:\r\n",
    "    print(\"All done.\")"
   ],
   "outputs": [
    {
     "output_type": "stream",
     "name": "stdout",
     "text": [
      "A number cannot be divided by zero.\n",
      "All done.\n"
     ]
    }
   ],
   "metadata": {}
  },
  {
   "cell_type": "markdown",
   "source": [
    "### Problem 3\n",
    "Write a function that asks for an integer and prints the square of it. Use a <code>while</code> loop with a <code>try</code>, <code>except</code>, <code>else</code> block to account for incorrect inputs."
   ],
   "metadata": {}
  },
  {
   "cell_type": "code",
   "execution_count": 10,
   "source": [
    "def ask():\r\n",
    "    \r\n",
    "    while True:\r\n",
    "        try:\r\n",
    "           num = int(input(\"Input an integer:\"))\r\n",
    "        except ValueError:\r\n",
    "            print(\"An error occurred! Please try again!\")\r\n",
    "            continue\r\n",
    "        else:\r\n",
    "            print(\"Thank you, your number squared is: {}\".format(num**2))\r\n",
    "            break\r\n",
    "\r\n"
   ],
   "outputs": [],
   "metadata": {
    "collapsed": true
   }
  },
  {
   "cell_type": "code",
   "execution_count": 11,
   "source": [
    "ask()"
   ],
   "outputs": [
    {
     "output_type": "stream",
     "name": "stdout",
     "text": [
      "An error occurred! Please try again!\n",
      "An error occurred! Please try again!\n",
      "An error occurred! Please try again!\n",
      "An error occurred! Please try again!\n",
      "An error occurred! Please try again!\n",
      "Thank you, your number squared is: 4\n"
     ]
    }
   ],
   "metadata": {}
  },
  {
   "cell_type": "markdown",
   "source": [
    "# Great Job!"
   ],
   "metadata": {}
  }
 ],
 "metadata": {
  "kernelspec": {
   "name": "python3",
   "display_name": "Python 3.8.8 64-bit ('base': conda)"
  },
  "language_info": {
   "codemirror_mode": {
    "name": "ipython",
    "version": 3
   },
   "file_extension": ".py",
   "mimetype": "text/x-python",
   "name": "python",
   "nbconvert_exporter": "python",
   "pygments_lexer": "ipython3",
   "version": "3.8.8"
  },
  "interpreter": {
   "hash": "267693ad5c8438806a0357606bede0717d75544ab6a24a4e07a631ef205d29d0"
  }
 },
 "nbformat": 4,
 "nbformat_minor": 1
}