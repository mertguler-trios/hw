{
 "cells": [
  {
   "cell_type": "markdown",
   "source": [
    "___\n",
    "\n",
    "<a href='https://www.udemy.com/user/joseportilla/'><img src='../Pierian_Data_Logo.png'/></a>\n",
    "___\n",
    "<center><em>Content Copyright by Pierian Data</em></center>"
   ],
   "metadata": {}
  },
  {
   "cell_type": "markdown",
   "source": [
    "# Object Oriented Programming Challenge\n",
    "\n",
    "For this challenge, create a bank account class that has two attributes:\n",
    "\n",
    "* owner\n",
    "* balance\n",
    "\n",
    "and two methods:\n",
    "\n",
    "* deposit\n",
    "* withdraw\n",
    "\n",
    "As an added requirement, withdrawals may not exceed the available balance.\n",
    "\n",
    "Instantiate your class, make several deposits and withdrawals, and test to make sure the account can't be overdrawn."
   ],
   "metadata": {}
  },
  {
   "cell_type": "code",
   "execution_count": 18,
   "source": [
    "class Account:\r\n",
    "    \r\n",
    "    def __init__(self,owner,balance=0):\r\n",
    "        self.owner = owner\r\n",
    "        self.balance = balance\r\n",
    "\r\n",
    "    def deposit(self,value):\r\n",
    "        self.balance += value\r\n",
    "        print(f\"Deposit Accepted!\\nCurrent balance is {self.balance}\")\r\n",
    "\r\n",
    "    def withdraw(self,value):\r\n",
    "        \r\n",
    "        if value <= self.balance:\r\n",
    "            self.balance -= value\r\n",
    "            print(f\"Withdraw Accepted!\\nCurrent balance is {self.balance}\")\r\n",
    "        else:\r\n",
    "            print(\"Funds Unavailable!\")\r\n",
    "\r\n",
    "\r\n",
    "    def __str__(self):\r\n",
    "        return f\"Account owner:   {self.owner}\\nAccount balance: ${self.balance}\"\r\n",
    "\r\n"
   ],
   "outputs": [],
   "metadata": {
    "collapsed": true
   }
  },
  {
   "cell_type": "code",
   "execution_count": 19,
   "source": [
    "# 1. Instantiate the class\r\n",
    "acct1 = Account('Jose',100)"
   ],
   "outputs": [],
   "metadata": {
    "collapsed": true
   }
  },
  {
   "cell_type": "code",
   "execution_count": 20,
   "source": [
    "# 2. Print the object\r\n",
    "print(acct1)"
   ],
   "outputs": [
    {
     "output_type": "stream",
     "name": "stdout",
     "text": [
      "Account owner:   Jose\n",
      "Account balance: $100\n"
     ]
    }
   ],
   "metadata": {}
  },
  {
   "cell_type": "code",
   "execution_count": 21,
   "source": [
    "# 3. Show the account owner attribute\r\n",
    "acct1.owner"
   ],
   "outputs": [
    {
     "output_type": "execute_result",
     "data": {
      "text/plain": [
       "'Jose'"
      ]
     },
     "metadata": {},
     "execution_count": 21
    }
   ],
   "metadata": {}
  },
  {
   "cell_type": "code",
   "execution_count": 22,
   "source": [
    "# 4. Show the account balance attribute\r\n",
    "acct1.balance"
   ],
   "outputs": [
    {
     "output_type": "execute_result",
     "data": {
      "text/plain": [
       "100"
      ]
     },
     "metadata": {},
     "execution_count": 22
    }
   ],
   "metadata": {}
  },
  {
   "cell_type": "code",
   "execution_count": 23,
   "source": [
    "# 5. Make a series of deposits and withdrawals\r\n",
    "acct1.deposit(50)"
   ],
   "outputs": [
    {
     "output_type": "stream",
     "name": "stdout",
     "text": [
      "Deposit Accepted!\n",
      "Current balance is 150\n"
     ]
    }
   ],
   "metadata": {}
  },
  {
   "cell_type": "code",
   "execution_count": 24,
   "source": [
    "acct1.withdraw(75)"
   ],
   "outputs": [
    {
     "output_type": "stream",
     "name": "stdout",
     "text": [
      "Withdraw Accepted!\n",
      "Current balance is 75\n"
     ]
    }
   ],
   "metadata": {}
  },
  {
   "cell_type": "code",
   "execution_count": 25,
   "source": [
    "# 6. Make a withdrawal that exceeds the available balance\r\n",
    "acct1.withdraw(500)"
   ],
   "outputs": [
    {
     "output_type": "stream",
     "name": "stdout",
     "text": [
      "Funds Unavailable!\n"
     ]
    }
   ],
   "metadata": {}
  },
  {
   "cell_type": "markdown",
   "source": [
    "## Good job!"
   ],
   "metadata": {}
  }
 ],
 "metadata": {
  "kernelspec": {
   "name": "python3",
   "display_name": "Python 3.8.8 64-bit ('base': conda)"
  },
  "language_info": {
   "codemirror_mode": {
    "name": "ipython",
    "version": 3
   },
   "file_extension": ".py",
   "mimetype": "text/x-python",
   "name": "python",
   "nbconvert_exporter": "python",
   "pygments_lexer": "ipython3",
   "version": "3.8.8"
  },
  "interpreter": {
   "hash": "267693ad5c8438806a0357606bede0717d75544ab6a24a4e07a631ef205d29d0"
  }
 },
 "nbformat": 4,
 "nbformat_minor": 2
}