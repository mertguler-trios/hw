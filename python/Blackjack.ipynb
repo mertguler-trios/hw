{
 "cells": [
  {
   "cell_type": "code",
   "execution_count": 77,
   "source": [
    "import random\r\n",
    "\r\n",
    "suits = ('Hearts', 'Diamonds', 'Spades', 'Clubs')\r\n",
    "ranks = ('Two', 'Three', 'Four', 'Five', 'Six', 'Seven', 'Eight', 'Nine', 'Ten', 'Jack', 'Queen', 'King', 'Ace')\r\n",
    "values = {'Two':2, 'Three':3, 'Four':4, 'Five':5, 'Six':6, 'Seven':7, 'Eight':8, 'Nine':9, 'Ten':10, 'Jack':10, 'Queen':10, 'King':10, 'Ace':11}"
   ],
   "outputs": [],
   "metadata": {}
  },
  {
   "cell_type": "code",
   "execution_count": 78,
   "source": [
    "class Card:\r\n",
    "\r\n",
    "    def __init__(self,suit,rank):\r\n",
    "        self.suit = suit.capitalize()\r\n",
    "        self.rank = rank.capitalize()\r\n",
    "        self.value = values[rank.capitalize()]\r\n",
    "\r\n",
    "    def __str__(self):\r\n",
    "        return self.rank + ' of ' + self.suit"
   ],
   "outputs": [],
   "metadata": {}
  },
  {
   "cell_type": "code",
   "execution_count": 79,
   "source": [
    "class Deck:\r\n",
    "\r\n",
    "    def __init__(self):\r\n",
    "\r\n",
    "        self.all_cards = []\r\n",
    "\r\n",
    "        for suit in suits:\r\n",
    "            for rank in ranks:\r\n",
    "                self.all_cards.append(Card(suit,rank))\r\n",
    "\r\n",
    "    def shuffle(self):\r\n",
    "\r\n",
    "        random.shuffle(self.all_cards)\r\n",
    "\r\n",
    "    def draw_one(self):\r\n",
    "\r\n",
    "        return self.all_cards.pop()"
   ],
   "outputs": [],
   "metadata": {}
  },
  {
   "cell_type": "code",
   "execution_count": 80,
   "source": [
    "class Player:\r\n",
    "\r\n",
    "    def __init__(self,name,balance=1000):\r\n",
    "        self.name = name\r\n",
    "        self.all_cards = []\r\n",
    "        self.balance = balance\r\n",
    "        self.sum_cards = 0\r\n",
    "        self.aces = 0\r\n",
    "\r\n",
    "    def __str__(self):\r\n",
    "        return f\"Player {self.name} has {len(self.all_cards)} cards.\"\r\n",
    "\r\n",
    "    def add_cards(self,new_card):\r\n",
    "        self.all_cards.append(new_card)\r\n",
    "        self.sum_cards += new_card.value\r\n",
    "\r\n",
    "        if new_card.rank == \"Aces\":\r\n",
    "            self.aces += 1\r\n",
    "\r\n",
    "    def bet(self,amount):\r\n",
    "        self.bet = amount\r\n",
    "        self.balance -= amount\r\n",
    "\r\n",
    "    def adjust_for_ace(self):\r\n",
    "        while self.sum_cards > 21 and self.aces:\r\n",
    "            self.sum_cards -= 10\r\n",
    "            self.aces -= 1\r\n",
    "\r\n",
    "    def bet_won(self):\r\n",
    "        self.balance += self.bet*2\r\n"
   ],
   "outputs": [],
   "metadata": {}
  },
  {
   "cell_type": "code",
   "execution_count": 81,
   "source": [
    "class Cashier(Player):\r\n",
    "\r\n",
    "    def __init__(self,name=\"Cashier\"):\r\n",
    "        self.name = name\r\n",
    "        self.all_cards = []\r\n"
   ],
   "outputs": [],
   "metadata": {}
  },
  {
   "cell_type": "code",
   "execution_count": 82,
   "source": [
    "def take_bet():\r\n",
    "\r\n",
    "    while True:\r\n",
    "\r\n",
    "        try:\r\n",
    "            bet_amount = int(input(\"Please enter your bet amount. Your current balance is {}\".format(player1.balance)))\r\n",
    "        except:\r\n",
    "            print(\"Please provide an integer for bet.\")\r\n",
    "        else:\r\n",
    "            if bet_amount <= player1.balance and bet_amount != 0:\r\n",
    "                print(\"Bet accepted! Your current bet is {} TL.\".format(bet_amount))\r\n",
    "                player1.balance -= bet_amount\r\n",
    "                break\r\n",
    "            else:\r\n",
    "                print(\"Your balance is not enough for this amount of bet. Please try again with a lower bet.\")\r\n",
    "                continue"
   ],
   "outputs": [],
   "metadata": {}
  },
  {
   "cell_type": "code",
   "execution_count": 83,
   "source": [
    "def hit():\r\n",
    "\r\n",
    "    player1.add_cards(newdeck.draw_one())\r\n",
    "    player1.adjust_for_ace()\r\n",
    "    print(f\"Your hand is now {player1.sum_cards}\")"
   ],
   "outputs": [],
   "metadata": {}
  },
  {
   "cell_type": "code",
   "execution_count": 84,
   "source": [
    "def hit_or_stand():\r\n",
    "\r\n",
    "    while True:\r\n",
    "\r\n",
    "        x = input(\"Do you want to hit or stand? (h/s)\")\r\n",
    "\r\n",
    "        if x.lower() == \"h\":\r\n",
    "            hit()\r\n",
    "\r\n",
    "            if player1.sum_cards > 21:\r\n",
    "                game_on = False\r\n",
    "\r\n",
    "        elif x.lower() == \"s\":\r\n",
    "            print(\"Player's turn has ended. Now the dealer is playing.\")\r\n",
    "            break\r\n",
    "\r\n",
    "        else:\r\n",
    "            print(\"I did not understand your command. Please try again with (h/s).\")\r\n",
    "    "
   ],
   "outputs": [],
   "metadata": {}
  },
  {
   "cell_type": "code",
   "execution_count": 85,
   "source": [
    "def hand_status():\r\n",
    "\r\n",
    "        if player1.all_cards[0].rank == \"Ace\" and player1.all_cards[1].rank == \"Ace\":\r\n",
    "\r\n",
    "            print(f\"Your sum of current cards is : {player1.sum_cards-20}/{player1.sum_cards-10/player1.sum_cards}\")\r\n",
    "            print(f\"Table has {cashier.all_cards[0]} with the value of {cashier.all_cards[0].value}.\")\r\n",
    "\r\n",
    "        elif player1.all_cards[0].rank == \"Ace\" or player1.all_cards[1].rank == \"Ace\":\r\n",
    "\r\n",
    "            print(f\"Your sum of current cards is : {player1.sum_cards-10}/{player1.sum_cards}\")\r\n",
    "            print(f\"Table has {cashier.all_cards[0]} with the value of {cashier.all_cards[0].value}.\")\r\n",
    "\r\n",
    "        else:\r\n",
    "            print(f\"Your sum of current cards is : {player1.sum_cards}\")\r\n",
    "            print(f\"Table has {cashier.all_cards[0]} with the value of {cashier.all_cards[0].value}.\")"
   ],
   "outputs": [],
   "metadata": {}
  },
  {
   "cell_type": "code",
   "execution_count": 87,
   "source": [
    "# SETUP THE GAME\r\n",
    "\r\n",
    "player1 = Player(\"Mert\")\r\n",
    "cashier = Player(\"Cashier\")\r\n",
    "\r\n",
    "newdeck = Deck()\r\n",
    "newdeck.shuffle()\r\n",
    "\r\n",
    "for i in range(2):\r\n",
    "    player1.add_cards(newdeck.draw_one())\r\n",
    "    cashier.add_cards(newdeck.draw_one())\r\n",
    "\r\n",
    "game_on = True\r\n",
    "\r\n",
    "ace_cards = []\r\n",
    "\r\n",
    "for suit in suits:\r\n",
    "    ace_cards.append(Card(suit,\"Ace\"))\r\n"
   ],
   "outputs": [],
   "metadata": {}
  },
  {
   "cell_type": "code",
   "execution_count": 88,
   "source": [
    "# while game_on:\r\n",
    "\r\n",
    "print(\"Welcome to Blackjack!\")\r\n",
    "\r\n",
    "take_bet()\r\n",
    "\r\n",
    "while game_on:\r\n",
    "\r\n",
    "    if player1.sum_cards == 21:\r\n",
    "\r\n",
    "        print(f\"You got a Blackjack! Congrulations! You won {bet_amount*2} TL.\")\r\n",
    "        player1.balance += bet_amount*2\r\n",
    "        game_on = False\r\n",
    "        break\r\n",
    "\r\n",
    "    elif player1.sum_cards > 21:\r\n",
    "\r\n",
    "        print(f\"You are BUSTED! Your sum of current cards is : {player1.sum_cards}\")\r\n",
    "        print(f\"You lost your bet as {bet_amount}\")\r\n",
    "        player1.balance -= bet_amount\r\n",
    "        game_on = False\r\n",
    "        break\r\n",
    "\r\n",
    "    else:\r\n",
    "        hand_status()\r\n",
    "        hit_or_stand()\r\n",
    "\r\n",
    "    break\r\n",
    "\r\n",
    "\r\n",
    "\r\n",
    "    "
   ],
   "outputs": [
    {
     "output_type": "stream",
     "name": "stdout",
     "text": [
      "Welcome to Blackjack!\n",
      "Bet accepted! Your current bet is 200 TL.\n",
      "Your sum of current cards is : 7\n",
      "Table has Ace of Spades with the value of 11.\n",
      "Your hand is now 13\n",
      "Your hand is now 16\n",
      "Your hand is now 26\n",
      "Player's turn has ended. Now the dealer is playing.\n"
     ]
    }
   ],
   "metadata": {}
  },
  {
   "cell_type": "code",
   "execution_count": 89,
   "source": [
    "player1.all_cards[1].rank"
   ],
   "outputs": [
    {
     "output_type": "execute_result",
     "data": {
      "text/plain": [
       "'Four'"
      ]
     },
     "metadata": {},
     "execution_count": 89
    }
   ],
   "metadata": {}
  },
  {
   "cell_type": "code",
   "execution_count": 90,
   "source": [
    "player1.all_cards[0].rank"
   ],
   "outputs": [
    {
     "output_type": "execute_result",
     "data": {
      "text/plain": [
       "'Three'"
      ]
     },
     "metadata": {},
     "execution_count": 90
    }
   ],
   "metadata": {}
  }
 ],
 "metadata": {
  "orig_nbformat": 4,
  "language_info": {
   "name": "python",
   "version": "3.8.8",
   "mimetype": "text/x-python",
   "codemirror_mode": {
    "name": "ipython",
    "version": 3
   },
   "pygments_lexer": "ipython3",
   "nbconvert_exporter": "python",
   "file_extension": ".py"
  },
  "kernelspec": {
   "name": "python3",
   "display_name": "Python 3.8.8 64-bit ('base': conda)"
  },
  "interpreter": {
   "hash": "267693ad5c8438806a0357606bede0717d75544ab6a24a4e07a631ef205d29d0"
  }
 },
 "nbformat": 4,
 "nbformat_minor": 2
}