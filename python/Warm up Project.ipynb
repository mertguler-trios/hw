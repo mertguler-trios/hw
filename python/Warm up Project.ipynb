{
 "cells": [
  {
   "cell_type": "code",
   "execution_count": 13,
   "source": [
    "# Import clear_output function\r\n",
    "\r\n",
    "from IPython.display import clear_output\r\n",
    "clear_output()"
   ],
   "outputs": [],
   "metadata": {}
  },
  {
   "cell_type": "code",
   "execution_count": 1,
   "source": [
    "# Display list function\r\n",
    "\r\n",
    "def display_list(mylist):\r\n",
    "\r\n",
    "    print(mylist)"
   ],
   "outputs": [],
   "metadata": {}
  },
  {
   "cell_type": "code",
   "execution_count": 26,
   "source": [
    "# User input of position\r\n",
    "\r\n",
    "def position_input():\r\n",
    "\r\n",
    "    position = \"wrong\"\r\n",
    "    acceptable_values = [\"0\",\"1\",\"2\"]\r\n",
    "\r\n",
    "    while position.isdigit() == False or position not in acceptable_values:\r\n",
    "\r\n",
    "        position = input(\"Choose a position between (0-2):\")\r\n",
    "\r\n",
    "        if position.isdigit() == False:\r\n",
    "            clear_output()\r\n",
    "            print(\"Please choose an acceptable value betweeen (0-2) Please try again:\")\r\n",
    "\r\n",
    "        elif position not in acceptable_values:\r\n",
    "            clear_output()\r\n",
    "            print(\"The input is not in the range of (0-2) Please try again:\")\r\n",
    "\r\n",
    "    clear_output()\r\n",
    "    print(f\"Current value is chosen as {int(position)}\")\r\n",
    "\r\n",
    "    return int(position)"
   ],
   "outputs": [],
   "metadata": {}
  },
  {
   "cell_type": "code",
   "execution_count": 30,
   "source": [
    "# New string to replace list\r\n",
    "\r\n",
    "def replace_list(mylist,position):\r\n",
    "\r\n",
    "    newstring = input(\"Enter a string value to change the list at the selected index location:\")\r\n",
    "\r\n",
    "    mylist[position] = newstring\r\n",
    "\r\n",
    "    return mylist\r\n",
    "  "
   ],
   "outputs": [],
   "metadata": {}
  },
  {
   "cell_type": "code",
   "execution_count": 51,
   "source": [
    "# Def a function to keep playing the game\r\n",
    "\r\n",
    "def gameon():\r\n",
    "\r\n",
    "    gameon = \"Wrong\"\r\n",
    "    acceptable_values = [\"Y\",\"N\"]\r\n",
    "\r\n",
    "    while gameon not in acceptable_values:\r\n",
    "\r\n",
    "        gameon = input(\"Do you want to continue to play (Y/N):\")\r\n",
    "\r\n",
    "        if gameon not in acceptable_values:\r\n",
    "            clear_output()\r\n",
    "            print(\"Wrong choice! Do you want to continue to play (Y/N):\")\r\n",
    "\r\n",
    "    if gameon == \"Y\":\r\n",
    "        return True\r\n",
    "    else:\r\n",
    "        return False\r\n"
   ],
   "outputs": [],
   "metadata": {}
  },
  {
   "cell_type": "code",
   "execution_count": 54,
   "source": [
    "mylist = [0,1,2]\r\n",
    "game_on = True\r\n",
    "\r\n",
    "while game_on:\r\n",
    "\r\n",
    "    display_list(mylist)\r\n",
    "\r\n",
    "    position = position_input()\r\n",
    "\r\n",
    "    replace_list(mylist,position)\r\n",
    "\r\n",
    "    display_list(mylist)\r\n",
    "    \r\n",
    "    game_on = gameon()\r\n",
    "\r\n",
    "    \r\n",
    "    "
   ],
   "outputs": [
    {
     "output_type": "stream",
     "name": "stdout",
     "text": [
      "Current value is chosen as 2\n",
      "['asda', 1, 'asdascxzAAA']\n"
     ]
    }
   ],
   "metadata": {}
  }
 ],
 "metadata": {
  "orig_nbformat": 4,
  "language_info": {
   "name": "python",
   "version": "3.8.8",
   "mimetype": "text/x-python",
   "codemirror_mode": {
    "name": "ipython",
    "version": 3
   },
   "pygments_lexer": "ipython3",
   "nbconvert_exporter": "python",
   "file_extension": ".py"
  },
  "kernelspec": {
   "name": "python3",
   "display_name": "Python 3.8.8 64-bit ('base': conda)"
  },
  "interpreter": {
   "hash": "267693ad5c8438806a0357606bede0717d75544ab6a24a4e07a631ef205d29d0"
  }
 },
 "nbformat": 4,
 "nbformat_minor": 2
}