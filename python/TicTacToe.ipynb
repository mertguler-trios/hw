{
 "cells": [
  {
   "cell_type": "code",
   "execution_count": 1,
   "source": [
    "# Import clear_output function\r\n",
    "\r\n",
    "from IPython.display import clear_output\r\n",
    "clear_output()"
   ],
   "outputs": [],
   "metadata": {}
  },
  {
   "cell_type": "code",
   "execution_count": 2,
   "source": [
    "# Showing Tic-tac-toe board\r\n",
    "\r\n",
    "def show_board(table=[1,2,3,4,5,6,7,8,9]):\r\n",
    "    clear_output()\r\n",
    "    print(\"  {}  |  {}  |  {}  \\n-----------------\\n  {}  |  {}  |  {}  \\n-----------------\\n  {}  |  {}  |  {}  \\n\".format(table[0],table[1],table[2],table[3],table[4],table[5],table[6],table[7],table[8]))"
   ],
   "outputs": [],
   "metadata": {}
  },
  {
   "cell_type": "code",
   "execution_count": 3,
   "source": [
    "def player_assignment():\r\n",
    "    \r\n",
    "    symbol1 = \"wrong\"\r\n",
    "    acceptable_values = [\"X\",\"O\"]\r\n",
    "\r\n",
    "    while symbol1 not in acceptable_values:\r\n",
    "\r\n",
    "        symbol1 = input(\"Choose a symbol for the 1st Player: (X/O)\").upper()\r\n",
    "\r\n",
    "        if symbol1 not in acceptable_values:\r\n",
    "            clear_output()\r\n",
    "            print(\"The input is acceptable. Please try again: (X/O\")\r\n",
    "\r\n",
    "    clear_output()\r\n",
    "\r\n",
    "    if symbol1 == \"X\":\r\n",
    "        symbol2 = \"O\"\r\n",
    "    else:\r\n",
    "        symbol2 = \"X\"\r\n",
    "\r\n",
    "    print(f\"Player 1 symbol : {symbol1}\")\r\n",
    "    print(f\"Player 2 symbol : {symbol2}\")\r\n",
    " \r\n",
    "    return (symbol1,symbol2)"
   ],
   "outputs": [],
   "metadata": {}
  },
  {
   "cell_type": "code",
   "execution_count": 4,
   "source": [
    "def space_check(board, position):\r\n",
    "    \r\n",
    "    return board[position] == ' '"
   ],
   "outputs": [],
   "metadata": {}
  },
  {
   "cell_type": "code",
   "execution_count": 5,
   "source": [
    "def full_board_check(board):\r\n",
    "    for i in range(0,9):\r\n",
    "        if space_check(board, i):\r\n",
    "            return False\r\n",
    "    return True"
   ],
   "outputs": [],
   "metadata": {}
  },
  {
   "cell_type": "code",
   "execution_count": 6,
   "source": [
    "# User input of position\r\n",
    "\r\n",
    "def position_input(board):\r\n",
    "\r\n",
    "    position = 0\r\n",
    "    acceptable_values = [1,2,3,4,5,6,7,8,9]\r\n",
    "\r\n",
    "    while position not in acceptable_values or space_check(board, position-1) == False:\r\n",
    "\r\n",
    "        position = input(\"Choose a position between (1-9):\")\r\n",
    "\r\n",
    "        if position.isdigit() == False:\r\n",
    "            continue\r\n",
    "\r\n",
    "        position = int(position)\r\n",
    "\r\n",
    "        if position not in acceptable_values or space_check(board, position-1) == False:\r\n",
    "            clear_output()\r\n",
    "            print(\"The input is not in the range of (1-9) Please try again:\")\r\n",
    "\r\n",
    "\r\n",
    "    return (position-1)"
   ],
   "outputs": [],
   "metadata": {}
  },
  {
   "cell_type": "code",
   "execution_count": 7,
   "source": [
    "# New board after placement\r\n",
    "\r\n",
    "def replace_board(board,position,symbol):\r\n",
    "\r\n",
    "    board[position] = symbol\r\n",
    "\r\n",
    "    return board\r\n",
    "  "
   ],
   "outputs": [],
   "metadata": {}
  },
  {
   "cell_type": "code",
   "execution_count": 8,
   "source": [
    "def win_check(board,symbol):\r\n",
    "\r\n",
    "    if board[0] == symbol and board[1]==symbol and board[2]==symbol:\r\n",
    "        return True\r\n",
    "    elif board[3] == symbol and board[4]==symbol and board[5]==symbol:\r\n",
    "        return True\r\n",
    "    elif board[6] == symbol and board[7]==symbol and board[8]==symbol:\r\n",
    "        return True\r\n",
    "    elif board[0] == symbol and board[3]==symbol and board[6]==symbol:\r\n",
    "        return True\r\n",
    "    elif board[1] == symbol and board[4]==symbol and board[7]==symbol:\r\n",
    "        return True\r\n",
    "    elif board[2] == symbol and board[5]==symbol and board[8]==symbol:\r\n",
    "        return True\r\n",
    "    elif board[0] == symbol and board[4]==symbol and board[8]==symbol:\r\n",
    "        return True\r\n",
    "    elif board[2] == symbol and board[4]==symbol and board[6]==symbol:\r\n",
    "        return True\r\n",
    "    else:\r\n",
    "        return False"
   ],
   "outputs": [],
   "metadata": {}
  },
  {
   "cell_type": "code",
   "execution_count": 9,
   "source": [
    "# Def a function to keep playing the game\r\n",
    "\r\n",
    "def gameon():\r\n",
    "\r\n",
    "    gameon = \"Wrong\"\r\n",
    "    acceptable_values = [\"Y\",\"N\"]\r\n",
    "\r\n",
    "    while gameon not in acceptable_values:\r\n",
    "\r\n",
    "        gameon = input(\"Do you want to continue to play (Y/N):\")\r\n",
    "\r\n",
    "        if gameon not in acceptable_values:\r\n",
    "            clear_output()\r\n",
    "            print(\"Wrong choice! Do you want to continue to play (Y/N):\")\r\n",
    "\r\n",
    "    if gameon == \"Y\":\r\n",
    "        return True\r\n",
    "    else:\r\n",
    "        return False\r\n"
   ],
   "outputs": [],
   "metadata": {}
  },
  {
   "cell_type": "code",
   "execution_count": 10,
   "source": [
    "game_on = True\r\n",
    "\r\n",
    "while game_on:\r\n",
    "\r\n",
    "    board = [\" \",\" \",\" \",\" \",\" \",\" \",\" \",\" \",\" \"]\r\n",
    "\r\n",
    "    symbol = player_assignment()\r\n",
    "\r\n",
    "    show_board()\r\n",
    "\r\n",
    "    win_condition = False\r\n",
    "\r\n",
    "    i=0\r\n",
    "\r\n",
    "    while win_condition == False:\r\n",
    "\r\n",
    "        position = position_input(board)\r\n",
    "\r\n",
    "        if i%2==0:\r\n",
    "            replace_board(board,position,symbol[0])\r\n",
    "        else:\r\n",
    "            replace_board(board,position,symbol[1])\r\n",
    "\r\n",
    "        i += 1\r\n",
    "\r\n",
    "        show_board(board)\r\n",
    "\r\n",
    "        win_condition = win_check(board,symbol[0])\r\n",
    "\r\n",
    "        if win_condition:\r\n",
    "            print(\"Player 1 has won the game! Congrulations!\")\r\n",
    "            break\r\n",
    "        elif full_board_check(board):\r\n",
    "            print(\"The game is a TIE.\")\r\n",
    "            break\r\n",
    "        else:\r\n",
    "            pass\r\n",
    "\r\n",
    "        win_condition = win_check(board,symbol[1])\r\n",
    "\r\n",
    "        if win_condition:\r\n",
    "            print(\"Player 2 has won the game! Congrulations!\")\r\n",
    "            break\r\n",
    "        elif full_board_check(board):\r\n",
    "            print(\"The game is a TIE.\")\r\n",
    "            break\r\n",
    "        else:\r\n",
    "            pass\r\n",
    "\r\n",
    "    game_on = gameon()\r\n"
   ],
   "outputs": [
    {
     "output_type": "stream",
     "name": "stdout",
     "text": [
      "  X  |     |  O  \n",
      "-----------------\n",
      "  O  |  O  |     \n",
      "-----------------\n",
      "  X  |  X  |  X  \n",
      "\n",
      "Player 1 has won the game! Congrulations!\n"
     ]
    }
   ],
   "metadata": {}
  }
 ],
 "metadata": {
  "orig_nbformat": 4,
  "language_info": {
   "name": "python",
   "version": "3.8.8",
   "mimetype": "text/x-python",
   "codemirror_mode": {
    "name": "ipython",
    "version": 3
   },
   "pygments_lexer": "ipython3",
   "nbconvert_exporter": "python",
   "file_extension": ".py"
  },
  "kernelspec": {
   "name": "python3",
   "display_name": "Python 3.8.8 64-bit ('base': conda)"
  },
  "interpreter": {
   "hash": "267693ad5c8438806a0357606bede0717d75544ab6a24a4e07a631ef205d29d0"
  }
 },
 "nbformat": 4,
 "nbformat_minor": 2
}