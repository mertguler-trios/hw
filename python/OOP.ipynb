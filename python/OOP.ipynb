{
 "cells": [
  {
   "cell_type": "code",
   "execution_count": 44,
   "source": [
    "class Dog():\r\n",
    "\r\n",
    "    # CLASS OBJECT ATTRIBUTES\r\n",
    "    # THEY ARE SAME FOR ANY INSTANCE OF A CLASS\r\n",
    "\r\n",
    "    species = \"mammal\"\r\n",
    "\r\n",
    "\r\n",
    "\r\n",
    "    def __init__(self,breed,name,spot):\r\n",
    "        \r\n",
    "        # Attributes definition\r\n",
    "        self.breed = breed\r\n",
    "        self.name = name\r\n",
    "        self.spot = spot\r\n",
    "\r\n",
    "    # Operations/Actions  ---->   Methods\r\n",
    "\r\n",
    "    def bark(self,number):\r\n",
    "        print(\"Woof! My name is {} and the number is {}\".format(self.name,number)) "
   ],
   "outputs": [],
   "metadata": {}
  },
  {
   "cell_type": "code",
   "execution_count": 45,
   "source": [
    "mydog = Dog(\"husky\",\"Jordan\",spot=False)"
   ],
   "outputs": [],
   "metadata": {}
  },
  {
   "cell_type": "code",
   "execution_count": 46,
   "source": [
    "type(mydog)"
   ],
   "outputs": [
    {
     "output_type": "execute_result",
     "data": {
      "text/plain": [
       "__main__.Dog"
      ]
     },
     "metadata": {},
     "execution_count": 46
    }
   ],
   "metadata": {}
  },
  {
   "cell_type": "code",
   "execution_count": 47,
   "source": [
    "mydog.spot"
   ],
   "outputs": [
    {
     "output_type": "execute_result",
     "data": {
      "text/plain": [
       "False"
      ]
     },
     "metadata": {},
     "execution_count": 47
    }
   ],
   "metadata": {}
  },
  {
   "cell_type": "code",
   "execution_count": 48,
   "source": [
    "mydog.species"
   ],
   "outputs": [
    {
     "output_type": "execute_result",
     "data": {
      "text/plain": [
       "'mammal'"
      ]
     },
     "metadata": {},
     "execution_count": 48
    }
   ],
   "metadata": {}
  },
  {
   "cell_type": "code",
   "execution_count": 50,
   "source": [
    "mydog.bark(5)"
   ],
   "outputs": [
    {
     "output_type": "stream",
     "name": "stdout",
     "text": [
      "Woof! My name is Jordan and the number is 5\n"
     ]
    }
   ],
   "metadata": {}
  },
  {
   "cell_type": "code",
   "execution_count": 73,
   "source": [
    "class Circle():\r\n",
    "\r\n",
    "    pi = 3.14\r\n",
    "\r\n",
    "    def __init__(self,radius=1) -> None:\r\n",
    "        \r\n",
    "        self.radius = radius\r\n",
    "        self.area = radius**2 * Circle.pi\r\n",
    "\r\n",
    "    def get_circumference(self):\r\n",
    "\r\n",
    "        return Circle.pi * self.radius * 2"
   ],
   "outputs": [],
   "metadata": {}
  },
  {
   "cell_type": "code",
   "execution_count": 74,
   "source": [
    "my_circle = Circle(30)"
   ],
   "outputs": [],
   "metadata": {}
  },
  {
   "cell_type": "code",
   "execution_count": 75,
   "source": [
    "my_circle.radius"
   ],
   "outputs": [
    {
     "output_type": "execute_result",
     "data": {
      "text/plain": [
       "30"
      ]
     },
     "metadata": {},
     "execution_count": 75
    }
   ],
   "metadata": {}
  },
  {
   "cell_type": "code",
   "execution_count": 76,
   "source": [
    "my_circle.get_circumference()"
   ],
   "outputs": [
    {
     "output_type": "execute_result",
     "data": {
      "text/plain": [
       "188.4"
      ]
     },
     "metadata": {},
     "execution_count": 76
    }
   ],
   "metadata": {}
  },
  {
   "cell_type": "code",
   "execution_count": 78,
   "source": [
    "area = my_circle.area"
   ],
   "outputs": [],
   "metadata": {}
  },
  {
   "cell_type": "code",
   "execution_count": 79,
   "source": [
    "area"
   ],
   "outputs": [
    {
     "output_type": "execute_result",
     "data": {
      "text/plain": [
       "2826.0"
      ]
     },
     "metadata": {},
     "execution_count": 79
    }
   ],
   "metadata": {}
  },
  {
   "cell_type": "code",
   "execution_count": 80,
   "source": [
    "class Animal():\r\n",
    "\r\n",
    "    def __init__(self) -> None:\r\n",
    "        print(\"Animal created!\")\r\n",
    "\r\n",
    "    def who_am_i(self):\r\n",
    "        print(\"I am an animal\")\r\n",
    "\r\n",
    "    def eat(self):\r\n",
    "        print(\"I am eating right now.\")"
   ],
   "outputs": [],
   "metadata": {}
  },
  {
   "cell_type": "code",
   "execution_count": 100,
   "source": [
    "class Dog(Animal):\r\n",
    "\r\n",
    "    def __init__(self) -> None:\r\n",
    "        # super().__init__();\r\n",
    "        Animal.__init__(self)\r\n",
    "        print(\"Dog created!\")\r\n",
    "\r\n",
    "    def who_am_i(self):\r\n",
    "        print(\"I am a dog!!\")\r\n",
    "\r\n",
    "    def bark(self):\r\n",
    "        print(\"WOOF!!\")"
   ],
   "outputs": [],
   "metadata": {}
  },
  {
   "cell_type": "code",
   "execution_count": 101,
   "source": [
    "mydog = Dog()"
   ],
   "outputs": [
    {
     "output_type": "stream",
     "name": "stdout",
     "text": [
      "Animal created!\n",
      "Dog created!\n"
     ]
    }
   ],
   "metadata": {}
  },
  {
   "cell_type": "code",
   "execution_count": 102,
   "source": [
    "mydog.who_am_i()"
   ],
   "outputs": [
    {
     "output_type": "stream",
     "name": "stdout",
     "text": [
      "I am a dog!!\n"
     ]
    }
   ],
   "metadata": {}
  },
  {
   "cell_type": "code",
   "execution_count": 103,
   "source": [
    "mydog.eat()"
   ],
   "outputs": [
    {
     "output_type": "stream",
     "name": "stdout",
     "text": [
      "I am eating right now.\n"
     ]
    }
   ],
   "metadata": {}
  },
  {
   "cell_type": "code",
   "execution_count": 104,
   "source": [
    "mydog.bark()"
   ],
   "outputs": [
    {
     "output_type": "stream",
     "name": "stdout",
     "text": [
      "WOOF!!\n"
     ]
    }
   ],
   "metadata": {}
  },
  {
   "cell_type": "code",
   "execution_count": 105,
   "source": [
    "class Dog():\r\n",
    "\r\n",
    "    def __init__(self,name) -> None:\r\n",
    "        self.name = name\r\n",
    "\r\n",
    "    def speak(self):\r\n",
    "        return self.name + \" says woof!\""
   ],
   "outputs": [],
   "metadata": {}
  },
  {
   "cell_type": "code",
   "execution_count": 106,
   "source": [
    "class Cat():\r\n",
    "\r\n",
    "    def __init__(self,name) -> None:\r\n",
    "        self.name = name\r\n",
    "\r\n",
    "    def speak(self):\r\n",
    "        return self.name + \" says meow!\""
   ],
   "outputs": [],
   "metadata": {}
  },
  {
   "cell_type": "code",
   "execution_count": 108,
   "source": [
    "jordan = Dog(\"jordan\")\r\n",
    "raki = Cat(\"raki\")"
   ],
   "outputs": [],
   "metadata": {}
  },
  {
   "cell_type": "code",
   "execution_count": 114,
   "source": [
    "print(jordan.speak())"
   ],
   "outputs": [
    {
     "output_type": "stream",
     "name": "stdout",
     "text": [
      "jordan says woof!\n"
     ]
    }
   ],
   "metadata": {}
  },
  {
   "cell_type": "code",
   "execution_count": 115,
   "source": [
    "print(raki.speak())"
   ],
   "outputs": [
    {
     "output_type": "stream",
     "name": "stdout",
     "text": [
      "raki says meow!\n"
     ]
    }
   ],
   "metadata": {}
  },
  {
   "cell_type": "code",
   "execution_count": 116,
   "source": [
    "for pet in [jordan,raki]:\r\n",
    "\r\n",
    "    print(type(pet))\r\n",
    "    print(pet.speak())"
   ],
   "outputs": [
    {
     "output_type": "stream",
     "name": "stdout",
     "text": [
      "<class '__main__.Dog'>\n",
      "jordan says woof!\n",
      "<class '__main__.Cat'>\n",
      "raki says meow!\n"
     ]
    }
   ],
   "metadata": {}
  },
  {
   "cell_type": "code",
   "execution_count": 117,
   "source": [
    "def pet_speak(pet):\r\n",
    "\r\n",
    "    print(pet.speak())"
   ],
   "outputs": [],
   "metadata": {}
  },
  {
   "cell_type": "code",
   "execution_count": 118,
   "source": [
    "pet_speak(jordan)"
   ],
   "outputs": [
    {
     "output_type": "stream",
     "name": "stdout",
     "text": [
      "jordan says woof!\n"
     ]
    }
   ],
   "metadata": {}
  },
  {
   "cell_type": "code",
   "execution_count": 119,
   "source": [
    "pet_speak(raki)"
   ],
   "outputs": [
    {
     "output_type": "stream",
     "name": "stdout",
     "text": [
      "raki says meow!\n"
     ]
    }
   ],
   "metadata": {}
  },
  {
   "cell_type": "code",
   "execution_count": 144,
   "source": [
    "class Animal():\r\n",
    "\r\n",
    "    def __init__(self,name):\r\n",
    "        self.name = name\r\n",
    "\r\n",
    "    def speak(self):\r\n",
    "        raise NotImplementedError(\"Subclasses of this class should implement this method.\")"
   ],
   "outputs": [],
   "metadata": {}
  },
  {
   "cell_type": "code",
   "execution_count": 145,
   "source": [
    "class Dog(Animal):\r\n",
    "\r\n",
    "    def speak(self):\r\n",
    "        return self.name + \" says woof!!\""
   ],
   "outputs": [],
   "metadata": {}
  },
  {
   "cell_type": "code",
   "execution_count": 146,
   "source": [
    "class Cat(Animal):\r\n",
    "\r\n",
    "    def speak(self):\r\n",
    "        return self.name + \" says meow!!\""
   ],
   "outputs": [],
   "metadata": {}
  },
  {
   "cell_type": "code",
   "execution_count": 147,
   "source": [
    "nenya = Cat(\"nenya\")"
   ],
   "outputs": [],
   "metadata": {}
  },
  {
   "cell_type": "code",
   "execution_count": 148,
   "source": [
    "jordi = Dog(\"jordi\")"
   ],
   "outputs": [],
   "metadata": {}
  },
  {
   "cell_type": "code",
   "execution_count": 149,
   "source": [
    "nenya.speak()"
   ],
   "outputs": [
    {
     "output_type": "execute_result",
     "data": {
      "text/plain": [
       "'nenya says meow!!'"
      ]
     },
     "metadata": {},
     "execution_count": 149
    }
   ],
   "metadata": {}
  },
  {
   "cell_type": "code",
   "execution_count": 151,
   "source": [
    "jordi.speak()"
   ],
   "outputs": [
    {
     "output_type": "execute_result",
     "data": {
      "text/plain": [
       "'jordi says woof!!'"
      ]
     },
     "metadata": {},
     "execution_count": 151
    }
   ],
   "metadata": {}
  },
  {
   "cell_type": "code",
   "execution_count": 177,
   "source": [
    "class Book():\r\n",
    "\r\n",
    "    def __init__(self,title,author,page) -> None:\r\n",
    "        self.title = title\r\n",
    "        self.author = author\r\n",
    "        self.page = page\r\n",
    "\r\n",
    "    def __str__(self) -> str:\r\n",
    "        return f\"{self.title} by {self.author}\"\r\n",
    "\r\n",
    "    def __len__ (self):\r\n",
    "        return self.page\r\n",
    "    \r\n",
    "    def __del__(self):\r\n",
    "        print(\"A book object has been deleted.\")"
   ],
   "outputs": [],
   "metadata": {}
  },
  {
   "cell_type": "code",
   "execution_count": 178,
   "source": [
    "mybook = Book(\"Watchmen\",\"Alan Moore\",250)"
   ],
   "outputs": [],
   "metadata": {}
  },
  {
   "cell_type": "code",
   "execution_count": 179,
   "source": [
    "print(mybook)"
   ],
   "outputs": [
    {
     "output_type": "stream",
     "name": "stdout",
     "text": [
      "Watchmen by Alan Moore\n"
     ]
    }
   ],
   "metadata": {}
  },
  {
   "cell_type": "code",
   "execution_count": 180,
   "source": [
    "str(mybook)"
   ],
   "outputs": [
    {
     "output_type": "execute_result",
     "data": {
      "text/plain": [
       "'Watchmen by Alan Moore'"
      ]
     },
     "metadata": {},
     "execution_count": 180
    }
   ],
   "metadata": {}
  },
  {
   "cell_type": "code",
   "execution_count": 181,
   "source": [
    "len(mybook)"
   ],
   "outputs": [
    {
     "output_type": "execute_result",
     "data": {
      "text/plain": [
       "250"
      ]
     },
     "metadata": {},
     "execution_count": 181
    }
   ],
   "metadata": {}
  },
  {
   "cell_type": "code",
   "execution_count": 182,
   "source": [
    "del mybook"
   ],
   "outputs": [
    {
     "output_type": "stream",
     "name": "stdout",
     "text": [
      "A book object has been deleted.\n"
     ]
    }
   ],
   "metadata": {}
  },
  {
   "cell_type": "code",
   "execution_count": null,
   "source": [],
   "outputs": [],
   "metadata": {}
  }
 ],
 "metadata": {
  "orig_nbformat": 4,
  "language_info": {
   "name": "python",
   "version": "3.8.8",
   "mimetype": "text/x-python",
   "codemirror_mode": {
    "name": "ipython",
    "version": 3
   },
   "pygments_lexer": "ipython3",
   "nbconvert_exporter": "python",
   "file_extension": ".py"
  },
  "kernelspec": {
   "name": "python3",
   "display_name": "Python 3.8.8 64-bit ('base': conda)"
  },
  "interpreter": {
   "hash": "267693ad5c8438806a0357606bede0717d75544ab6a24a4e07a631ef205d29d0"
  }
 },
 "nbformat": 4,
 "nbformat_minor": 2
}